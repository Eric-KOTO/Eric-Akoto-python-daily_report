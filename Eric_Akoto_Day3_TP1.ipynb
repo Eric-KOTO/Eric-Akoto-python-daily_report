{
 "cells": [
  {
   "cell_type": "markdown",
   "id": "414684b9",
   "metadata": {},
   "source": [
    "### Exercise 1:\n",
    "Declare a variable `x` and assign it the value `10`.\n",
    "\n",
    "```python\n",
    "# Exercise 1\n",
    "```\n",
    "\n",
    "---"
   ]
  },
  {
   "cell_type": "code",
   "execution_count": 4,
   "id": "8b075f72",
   "metadata": {},
   "outputs": [],
   "source": [
    "x = 10"
   ]
  },
  {
   "cell_type": "markdown",
   "id": "cec891e2",
   "metadata": {},
   "source": [
    "### Exercise 2:\n",
    "Assign the value `True` to a variable called `is_valid`.\n",
    "\n",
    "```python\n",
    "# Exercise 2\n",
    "```"
   ]
  },
  {
   "cell_type": "code",
   "execution_count": 6,
   "id": "42413359",
   "metadata": {},
   "outputs": [],
   "source": [
    "is_valid = True"
   ]
  },
  {
   "cell_type": "markdown",
   "id": "c5666657",
   "metadata": {},
   "source": [
    "### Exercise 3:\n",
    "Create a string variable `name` with the value \"Python Programming\".\n",
    "\n",
    "```python\n",
    "# Exercise 3\n",
    "```\n",
    "\n",
    "---\n"
   ]
  },
  {
   "cell_type": "code",
   "execution_count": 5,
   "id": "c0f45815",
   "metadata": {},
   "outputs": [],
   "source": [
    "name = \"Python Programming\""
   ]
  },
  {
   "cell_type": "markdown",
   "id": "177e95f7",
   "metadata": {},
   "source": [
    "### Exercise 4:\n",
    "Assign the result of `5 + 3` to a variable `sum_result`.\n",
    "\n",
    "```python\n",
    "# Exercise 4\n",
    "```\n",
    "\n",
    "---\n"
   ]
  },
  {
   "cell_type": "code",
   "execution_count": 7,
   "id": "b424f21b",
   "metadata": {},
   "outputs": [],
   "source": [
    "sum_result = 5 + 3"
   ]
  },
  {
   "cell_type": "markdown",
   "id": "6f5db8a1",
   "metadata": {},
   "source": [
    "### Exercise 5:\n",
    "Assign multiple variables in one line: `a = 5`, `b = 10`, `c = 15`.\n",
    "\n",
    "```python\n",
    "# Exercise 5\n",
    "```\n",
    "\n",
    "---"
   ]
  },
  {
   "cell_type": "code",
   "execution_count": 10,
   "id": "54934d17",
   "metadata": {},
   "outputs": [],
   "source": [
    "a, b, c = 5, 10, 15"
   ]
  },
  {
   "cell_type": "markdown",
   "id": "e9e4930c",
   "metadata": {},
   "source": [
    "### Exercise 6:\n",
    "Assign the value of one variable `x` to another variable `y`.\n",
    "\n",
    "```python\n",
    "# Exercise 6\n",
    "```\n",
    "\n",
    "---"
   ]
  },
  {
   "cell_type": "code",
   "execution_count": 11,
   "id": "b6a27e9c",
   "metadata": {},
   "outputs": [],
   "source": [
    "y = x"
   ]
  },
  {
   "cell_type": "markdown",
   "id": "212131f9",
   "metadata": {},
   "source": [
    "### Exercise 7:\n",
    "Assign a floating-point number `9.8` to a variable `gravity`.\n",
    "\n",
    "```python\n",
    "# Exercise 7\n",
    "```\n",
    "\n",
    "---"
   ]
  },
  {
   "cell_type": "code",
   "execution_count": 12,
   "id": "0c2e983a",
   "metadata": {},
   "outputs": [],
   "source": [
    "gravity = 9.8"
   ]
  },
  {
   "cell_type": "markdown",
   "id": "e7bd93a2",
   "metadata": {},
   "source": [
    "### Exercise 8:\n",
    "Create a variable `country` and assign it the string value of your favorite country.\n",
    "\n",
    "```python\n",
    "# Exercise 8\n",
    "```\n",
    "\n",
    "---\n"
   ]
  },
  {
   "cell_type": "code",
   "execution_count": 13,
   "id": "8a9633e1",
   "metadata": {},
   "outputs": [],
   "source": [
    "country = \"Benin\""
   ]
  },
  {
   "cell_type": "markdown",
   "id": "c6f5ee55",
   "metadata": {},
   "source": [
    "\n",
    "### Exercise 9:\n",
    "Change the value of variable `age` from `25` to `26` in two separate steps.\n",
    "\n",
    "```python\n",
    "# Exercise 9\n",
    "```\n",
    "\n",
    "---"
   ]
  },
  {
   "cell_type": "code",
   "execution_count": 14,
   "id": "52ec101f",
   "metadata": {},
   "outputs": [],
   "source": [
    "age = 25\n",
    "age = 26"
   ]
  },
  {
   "cell_type": "markdown",
   "id": "de23930e",
   "metadata": {},
   "source": [
    "\n",
    "### Exercise 10:\n",
    "Use one variable to store the result of subtracting two numbers `20 - 7`.\n",
    "\n",
    "```python\n",
    "# Exercise 10\n",
    "```\n",
    "\n",
    "---"
   ]
  },
  {
   "cell_type": "code",
   "execution_count": 15,
   "id": "159ecf81",
   "metadata": {},
   "outputs": [],
   "source": [
    "subtration = 20 - 7"
   ]
  },
  {
   "cell_type": "markdown",
   "id": "e42d9cf1",
   "metadata": {},
   "source": [
    "\n",
    "### Exercise 11:\n",
    "Assign an integer value and a floating-point value to two different variables.\n",
    "\n",
    "```python\n",
    "# Exercise 11\n",
    "```\n",
    "\n",
    "---"
   ]
  },
  {
   "cell_type": "code",
   "execution_count": 16,
   "id": "67736b25",
   "metadata": {},
   "outputs": [],
   "source": [
    "integer  = 12\n",
    "floating = 10.5"
   ]
  },
  {
   "cell_type": "markdown",
   "id": "1c0fdf95",
   "metadata": {},
   "source": [
    "\n",
    "### Exercise 12:\n",
    "Assign a boolean value `False` to a variable `is_completed`.\n",
    "\n",
    "```python\n",
    "# Exercise 12\n",
    "```\n",
    "\n",
    "---\n"
   ]
  },
  {
   "cell_type": "code",
   "execution_count": 17,
   "id": "55d9107e",
   "metadata": {},
   "outputs": [],
   "source": [
    "is_completed = False"
   ]
  },
  {
   "cell_type": "markdown",
   "id": "f4df8300",
   "metadata": {},
   "source": [
    "\n",
    "### Exercise 13:\n",
    "Swap the values of two variables `x` and `y`.\n",
    "\n",
    "```python\n",
    "# Exercise 13\n",
    "```\n",
    "\n",
    "---"
   ]
  },
  {
   "cell_type": "code",
   "execution_count": 23,
   "id": "cdb5f77f",
   "metadata": {},
   "outputs": [
    {
     "data": {
      "text/plain": [
       "(30, 20)"
      ]
     },
     "execution_count": 23,
     "metadata": {},
     "output_type": "execute_result"
    }
   ],
   "source": [
    "x = 20 ;y = 30\n",
    "z = y\n",
    "y =  x\n",
    "x = z\n",
    "\n",
    "x,y\n"
   ]
  },
  {
   "cell_type": "markdown",
   "id": "45bce550",
   "metadata": {},
   "source": [
    "\n",
    "### Exercise 15:\n",
    "Reassign a variable from an integer to a string.\n",
    "\n",
    "```python\n",
    "# Exercise 15\n",
    "```\n",
    "\n",
    "---"
   ]
  },
  {
   "cell_type": "code",
   "execution_count": 25,
   "id": "738f17b3",
   "metadata": {},
   "outputs": [
    {
     "data": {
      "text/plain": [
       "str"
      ]
     },
     "execution_count": 25,
     "metadata": {},
     "output_type": "execute_result"
    }
   ],
   "source": [
    "my_var = 50\n",
    "\n",
    "my_var = str(my_var)\n",
    "type(my_var)"
   ]
  },
  {
   "cell_type": "markdown",
   "id": "00f6c479",
   "metadata": {},
   "source": [
    "\n",
    "### Exercise 16:\n",
    "Create two variables `first_name` and `last_name`, and assign them your first and last names.\n",
    "\n",
    "```python\n",
    "# Exercise 16\n",
    "```\n",
    "\n",
    "---\n"
   ]
  },
  {
   "cell_type": "code",
   "execution_count": 26,
   "id": "4ece4eed",
   "metadata": {},
   "outputs": [],
   "source": [
    "first_name = \"Eric\"\n",
    "last_name = \"AKOTO\""
   ]
  },
  {
   "cell_type": "markdown",
   "id": "a437e486",
   "metadata": {},
   "source": [
    "\n",
    "### Exercise 17:\n",
    "Create a variable `temperature` and assign it the value of `35.5`.\n",
    "\n",
    "```python\n",
    "# Exercise 17\n",
    "```\n",
    "\n",
    "---"
   ]
  },
  {
   "cell_type": "code",
   "execution_count": 27,
   "id": "3225c793",
   "metadata": {},
   "outputs": [],
   "source": [
    "temperature = 35.5"
   ]
  },
  {
   "cell_type": "code",
   "execution_count": null,
   "id": "c28cc67e",
   "metadata": {},
   "outputs": [],
   "source": [
    "\n",
    "### Exercise 18:\n",
    "Assign the result of the multiplication of two numbers `8 * 6` to a variable `product`.\n",
    "\n",
    "```python\n",
    "# Exercise 18\n",
    "```\n",
    "\n",
    "---\n"
   ]
  },
  {
   "cell_type": "code",
   "execution_count": 29,
   "id": "d3f81cc4",
   "metadata": {},
   "outputs": [
    {
     "data": {
      "text/plain": [
       "48"
      ]
     },
     "execution_count": 29,
     "metadata": {},
     "output_type": "execute_result"
    }
   ],
   "source": [
    "product = 8*6\n",
    "product"
   ]
  },
  {
   "cell_type": "code",
   "execution_count": null,
   "id": "31e47ef2",
   "metadata": {},
   "outputs": [],
   "source": [
    "\n",
    "### Exercise 19:\n",
    "Assign a sentence of your choice to a variable `sentence`.\n",
    "\n",
    "```python\n",
    "# Exercise 19\n",
    "```\n",
    "\n",
    "---"
   ]
  },
  {
   "cell_type": "code",
   "execution_count": 31,
   "id": "7105bffc",
   "metadata": {},
   "outputs": [
    {
     "data": {
      "text/plain": [
       "'Never give up'"
      ]
     },
     "execution_count": 31,
     "metadata": {},
     "output_type": "execute_result"
    }
   ],
   "source": [
    "sentence = \"Never give up\"\n",
    "sentence"
   ]
  },
  {
   "cell_type": "code",
   "execution_count": null,
   "id": "9f76845d",
   "metadata": {},
   "outputs": [],
   "source": [
    "\n",
    "### Exercise 20:\n",
    "Use an assignment to convert a string `'50'` into an integer variable `int_value`.\n",
    "\n",
    "```python\n",
    "# Exercise 20\n",
    "```\n",
    "\n",
    "---"
   ]
  },
  {
   "cell_type": "code",
   "execution_count": 32,
   "id": "2dd92332",
   "metadata": {},
   "outputs": [
    {
     "data": {
      "text/plain": [
       "int"
      ]
     },
     "execution_count": 32,
     "metadata": {},
     "output_type": "execute_result"
    }
   ],
   "source": [
    "my_str = \"50\"\n",
    "int_value = int(my_str)\n",
    "type(int_value)"
   ]
  },
  {
   "cell_type": "code",
   "execution_count": null,
   "id": "699f6393",
   "metadata": {},
   "outputs": [],
   "source": [
    "\n",
    "### Exercise 21:\n",
    "Assign the result of dividing `144` by `12` to a variable `quotient`.\n",
    "\n",
    "```python\n",
    "# Exercise 21\n",
    "```\n",
    "\n",
    "---"
   ]
  },
  {
   "cell_type": "code",
   "execution_count": 33,
   "id": "5312d82e",
   "metadata": {},
   "outputs": [
    {
     "data": {
      "text/plain": [
       "12.0"
      ]
     },
     "execution_count": 33,
     "metadata": {},
     "output_type": "execute_result"
    }
   ],
   "source": [
    "quotient = 144/12\n",
    "quotient"
   ]
  },
  {
   "cell_type": "code",
   "execution_count": null,
   "id": "7a1047e7",
   "metadata": {},
   "outputs": [],
   "source": [
    "\n",
    "### Exercise 22:\n",
    "Assign the remainder of `47 divided by 5` to a variable `remainder`.\n",
    "\n",
    "```python\n",
    "# Exercise 22\n",
    "```\n",
    "\n",
    "---"
   ]
  },
  {
   "cell_type": "code",
   "execution_count": 35,
   "id": "24757b58",
   "metadata": {},
   "outputs": [
    {
     "data": {
      "text/plain": [
       "2"
      ]
     },
     "execution_count": 35,
     "metadata": {},
     "output_type": "execute_result"
    }
   ],
   "source": [
    "remainder = 47 % 5\n",
    "remainder"
   ]
  },
  {
   "cell_type": "code",
   "execution_count": null,
   "id": "b312cc04",
   "metadata": {},
   "outputs": [],
   "source": [
    "\n",
    "### Exercise 23:\n",
    "Create a variable `is_student` and assign it the value `True`.\n",
    "\n",
    "```python\n",
    "# Exercise 23\n",
    "```\n",
    "\n",
    "---"
   ]
  },
  {
   "cell_type": "code",
   "execution_count": 36,
   "id": "188311d0",
   "metadata": {},
   "outputs": [
    {
     "data": {
      "text/plain": [
       "True"
      ]
     },
     "execution_count": 36,
     "metadata": {},
     "output_type": "execute_result"
    }
   ],
   "source": [
    "is_student = True\n",
    "is_student"
   ]
  },
  {
   "cell_type": "code",
   "execution_count": null,
   "id": "b944cf2c",
   "metadata": {},
   "outputs": [],
   "source": [
    "\n",
    "### Exercise 24:\n",
    "Use a variable to store the result of a modulo operation: `45 % 4`.\n",
    "\n",
    "```python\n",
    "# Exercise 24\n",
    "```\n",
    "\n",
    "---"
   ]
  },
  {
   "cell_type": "code",
   "execution_count": 37,
   "id": "486dd1cd",
   "metadata": {},
   "outputs": [
    {
     "data": {
      "text/plain": [
       "1"
      ]
     },
     "execution_count": 37,
     "metadata": {},
     "output_type": "execute_result"
    }
   ],
   "source": [
    "mod = 45 % 4\n",
    "mod"
   ]
  },
  {
   "cell_type": "code",
   "execution_count": null,
   "id": "194d9c9f",
   "metadata": {},
   "outputs": [],
   "source": [
    "### Exercise 25:\n",
    "Create a variable `pi` and assign it the value `3.14159`.\n",
    "\n",
    "```python\n",
    "# Exercise 25\n",
    "```\n",
    "\n",
    "---"
   ]
  },
  {
   "cell_type": "code",
   "execution_count": 38,
   "id": "c3657529",
   "metadata": {},
   "outputs": [
    {
     "data": {
      "text/plain": [
       "3.14159"
      ]
     },
     "execution_count": 38,
     "metadata": {},
     "output_type": "execute_result"
    }
   ],
   "source": [
    "pi = 3.14159\n",
    "pi"
   ]
  },
  {
   "cell_type": "code",
   "execution_count": null,
   "id": "9ca3b14d",
   "metadata": {},
   "outputs": [],
   "source": [
    "\n",
    "### Exercise 26:\n",
    "Create two variables `length` and `width`, assign them values, and calculate the area of a rectangle.\n",
    "\n",
    "```python\n",
    "# Exercise 26\n",
    "```\n",
    "\n",
    "--"
   ]
  },
  {
   "cell_type": "code",
   "execution_count": 39,
   "id": "77d1f304",
   "metadata": {},
   "outputs": [
    {
     "data": {
      "text/plain": [
       "8"
      ]
     },
     "execution_count": 39,
     "metadata": {},
     "output_type": "execute_result"
    }
   ],
   "source": [
    "length = 4\n",
    "width = 2\n",
    "\n",
    "area = length * width\n",
    "area"
   ]
  },
  {
   "cell_type": "code",
   "execution_count": null,
   "id": "7a31a75a",
   "metadata": {},
   "outputs": [],
   "source": [
    "\n",
    "### Exercise 27:\n",
    "Assign a negative number to a variable `negative_value`.\n",
    "\n",
    "```python\n",
    "# Exercise 27\n",
    "```\n",
    "\n",
    "---"
   ]
  },
  {
   "cell_type": "code",
   "execution_count": 40,
   "id": "049e7db3",
   "metadata": {},
   "outputs": [
    {
     "data": {
      "text/plain": [
       "-50"
      ]
     },
     "execution_count": 40,
     "metadata": {},
     "output_type": "execute_result"
    }
   ],
   "source": [
    "negative_value = -50\n",
    "negative_value"
   ]
  },
  {
   "cell_type": "code",
   "execution_count": null,
   "id": "7a1749ce",
   "metadata": {},
   "outputs": [],
   "source": [
    "\n",
    "### Exercise 28:\n",
    "Assign a string containing a special character (e.g., \"Hello, World!\") to a variable `greeting`.\n",
    "\n",
    "```python\n",
    "# Exercise 28\n",
    "```\n",
    "\n",
    "---\n"
   ]
  },
  {
   "cell_type": "code",
   "execution_count": 48,
   "id": "62145692",
   "metadata": {},
   "outputs": [
    {
     "name": "stdout",
     "output_type": "stream",
     "text": [
      "\"Hello ,  world!\"\n"
     ]
    }
   ],
   "source": [
    "greeting = '\"Hello ,  world!\"'\n",
    "print(greeting) "
   ]
  },
  {
   "cell_type": "code",
   "execution_count": null,
   "id": "a9827ccb",
   "metadata": {},
   "outputs": [],
   "source": [
    "\n",
    "### Exercise 29:\n",
    "Create a variable `population` and assign it a large integer value (in billions).\n",
    "\n",
    "```python\n",
    "# Exercise 29\n",
    "```\n",
    "\n",
    "---"
   ]
  },
  {
   "cell_type": "code",
   "execution_count": 50,
   "id": "acce626e",
   "metadata": {},
   "outputs": [
    {
     "data": {
      "text/plain": [
       "199000000"
      ]
     },
     "execution_count": 50,
     "metadata": {},
     "output_type": "execute_result"
    }
   ],
   "source": [
    "population = 199000000\n",
    "population"
   ]
  },
  {
   "cell_type": "code",
   "execution_count": null,
   "id": "d68fed6d",
   "metadata": {},
   "outputs": [],
   "source": [
    "### Exercise 31:\n",
    "Assign a list of your favorite fruits to a variable `fruits`.\n",
    "\n",
    "```python\n",
    "# Exercise 31\n",
    "```\n",
    "\n",
    "---\n"
   ]
  },
  {
   "cell_type": "code",
   "execution_count": 51,
   "id": "6c8a8dd8",
   "metadata": {},
   "outputs": [
    {
     "data": {
      "text/plain": [
       "['ananas', 'banana', 'orange']"
      ]
     },
     "execution_count": 51,
     "metadata": {},
     "output_type": "execute_result"
    }
   ],
   "source": [
    "fruits = [\"ananas\",\"banana\",\"orange\"]\n",
    "fruits"
   ]
  },
  {
   "cell_type": "code",
   "execution_count": null,
   "id": "dc47ec0f",
   "metadata": {},
   "outputs": [],
   "source": [
    "\n",
    "### Exercise 32:\n",
    "Assign a tuple of three numbers to a variable `coordinates`.\n",
    "\n",
    "```python\n",
    "# Exercise 32\n",
    "```\n",
    "\n",
    "---\n"
   ]
  },
  {
   "cell_type": "code",
   "execution_count": 54,
   "id": "df0298fd",
   "metadata": {},
   "outputs": [
    {
     "data": {
      "text/plain": [
       "(1, 2, 3)"
      ]
     },
     "execution_count": 54,
     "metadata": {},
     "output_type": "execute_result"
    }
   ],
   "source": [
    "coordinates = (1,2,3)\n",
    "coordinates\n"
   ]
  },
  {
   "cell_type": "markdown",
   "id": "754f8eb4",
   "metadata": {},
   "source": [
    "--\n",
    "\n",
    "### Exercise 33:\n",
    "Assign a dictionary with keys `name` and `age` to a variable `person`.\n",
    "\n",
    "```python\n",
    "# Exercise 33\n",
    "```\n",
    "\n",
    "---\n"
   ]
  },
  {
   "cell_type": "code",
   "execution_count": null,
   "id": "40e74179",
   "metadata": {},
   "outputs": [],
   "source": [
    "person = {'name' : 'age' }"
   ]
  },
  {
   "cell_type": "code",
   "execution_count": null,
   "id": "df1b0a02",
   "metadata": {},
   "outputs": [],
   "source": [
    "\n",
    "### Exercise 34:\n",
    "Use variables to store the sum of two floating-point numbers.\n",
    "\n",
    "```python\n",
    "# Exercise 34\n",
    "```\n",
    "\n",
    "---"
   ]
  },
  {
   "cell_type": "code",
   "execution_count": 61,
   "id": "a2b96bed",
   "metadata": {},
   "outputs": [
    {
     "data": {
      "text/plain": [
       "52.7"
      ]
     },
     "execution_count": 61,
     "metadata": {},
     "output_type": "execute_result"
    }
   ],
   "source": [
    "summation = 12.5 + 40.2\n",
    "summation"
   ]
  },
  {
   "cell_type": "code",
   "execution_count": null,
   "id": "88e38392",
   "metadata": {},
   "outputs": [],
   "source": [
    "\n",
    "### Exercise 35:\n",
    "Create a variable `is_sunny` and assign it the result of a comparison `10 > 5`.\n",
    "\n",
    "```python\n",
    "# Exercise 35\n",
    "```\n",
    "\n",
    "---"
   ]
  },
  {
   "cell_type": "code",
   "execution_count": 63,
   "id": "f187908b",
   "metadata": {},
   "outputs": [
    {
     "data": {
      "text/plain": [
       "True"
      ]
     },
     "execution_count": 63,
     "metadata": {},
     "output_type": "execute_result"
    }
   ],
   "source": [
    "is_sunny = 10 > 5\n",
    "is_sunny"
   ]
  },
  {
   "cell_type": "code",
   "execution_count": null,
   "id": "aa8cbc48",
   "metadata": {},
   "outputs": [],
   "source": [
    "\n",
    "### Exercise 36:\n",
    "Assign a string and an integer to two different variables, then print both on one line.\n",
    "\n",
    "```python\n",
    "# Exercise 36\n",
    "```\n",
    "\n",
    "---"
   ]
  },
  {
   "cell_type": "code",
   "execution_count": 64,
   "id": "13a6a37d",
   "metadata": {},
   "outputs": [
    {
     "name": "stdout",
     "output_type": "stream",
     "text": [
      "azerty 122\n"
     ]
    }
   ],
   "source": [
    "a = \"azerty\"\n",
    "b = 122\n",
    "print(a,b)"
   ]
  },
  {
   "cell_type": "markdown",
   "id": "7c94c231",
   "metadata": {},
   "source": [
    "\n",
    "### Exercise 37:\n",
    "Reassign a variable that originally held a number to a boolean value.\n",
    "\n",
    "```python\n",
    "# Exercise 37\n",
    "```\n",
    "\n",
    "---"
   ]
  },
  {
   "cell_type": "code",
   "execution_count": 66,
   "id": "aca5c18c",
   "metadata": {},
   "outputs": [],
   "source": [
    "var = 40\n",
    "var = True"
   ]
  },
  {
   "cell_type": "code",
   "execution_count": null,
   "id": "dc854bf0",
   "metadata": {},
   "outputs": [],
   "source": [
    "\n",
    "### Exercise 38:\n",
    "Create a variable `is_weekend` and assign it the result of `False`.\n",
    "\n",
    "```python\n",
    "# Exercise 38\n",
    "```\n",
    "\n",
    "---"
   ]
  },
  {
   "cell_type": "code",
   "execution_count": null,
   "id": "d0d9b3c6",
   "metadata": {},
   "outputs": [],
   "source": [
    "is_weekend = False"
   ]
  },
  {
   "cell_type": "code",
   "execution_count": null,
   "id": "87d41ecc",
   "metadata": {},
   "outputs": [],
   "source": [
    "\n",
    "### Exercise 39:\n",
    "Assign a multi-line string to a variable `description`.\n",
    "\n",
    "```python\n",
    "# Exercise 39\n",
    "```\n",
    "\n",
    "---"
   ]
  },
  {
   "cell_type": "code",
   "execution_count": 82,
   "id": "a2873d1c",
   "metadata": {},
   "outputs": [
    {
     "data": {
      "text/plain": [
       "'speak  \\n eat\\n  slep'"
      ]
     },
     "execution_count": 82,
     "metadata": {},
     "output_type": "execute_result"
    }
   ],
   "source": [
    "description =\"\"\"speak  \n",
    " eat\n",
    "  slep\"\"\" \n",
    "\n",
    "description "
   ]
  },
  {
   "cell_type": "code",
   "execution_count": null,
   "id": "ad64c8aa",
   "metadata": {},
   "outputs": [],
   "source": [
    "\n",
    "### Exercise 41:\n",
    "Assign the result of a floor division `100 // 6` to a variable `floor_div_result`.\n",
    "\n",
    "```python\n",
    "# Exercise 41\n",
    "```\n",
    "\n",
    "---"
   ]
  },
  {
   "cell_type": "code",
   "execution_count": 83,
   "id": "dfd367fe",
   "metadata": {},
   "outputs": [
    {
     "data": {
      "text/plain": [
       "16"
      ]
     },
     "execution_count": 83,
     "metadata": {},
     "output_type": "execute_result"
    }
   ],
   "source": [
    "floor_div_result = 100//6\n",
    "floor_div_result\n"
   ]
  },
  {
   "cell_type": "code",
   "execution_count": null,
   "id": "e98fb9d0",
   "metadata": {},
   "outputs": [],
   "source": [
    "\n",
    "### Exercise 42:\n",
    "Assign the result of adding a floating-point number to an integer to a variable `mixed_sum`.\n",
    "\n",
    "```python\n",
    "# Exercise 42\n",
    "```\n",
    "\n",
    "---"
   ]
  },
  {
   "cell_type": "code",
   "execution_count": 84,
   "id": "723394b9",
   "metadata": {},
   "outputs": [
    {
     "data": {
      "text/plain": [
       "32.5"
      ]
     },
     "execution_count": 84,
     "metadata": {},
     "output_type": "execute_result"
    }
   ],
   "source": [
    "mixed_sum  = 12.5 + 20\n",
    "mixed_sum"
   ]
  },
  {
   "cell_type": "code",
   "execution_count": null,
   "id": "76840ec0",
   "metadata": {},
   "outputs": [],
   "source": []
  },
  {
   "cell_type": "code",
   "execution_count": null,
   "id": "408ceb3e",
   "metadata": {},
   "outputs": [],
   "source": []
  },
  {
   "cell_type": "code",
   "execution_count": null,
   "id": "0bde6be4",
   "metadata": {},
   "outputs": [],
   "source": []
  },
  {
   "cell_type": "code",
   "execution_count": null,
   "id": "ac800fbb",
   "metadata": {},
   "outputs": [],
   "source": []
  },
  {
   "cell_type": "code",
   "execution_count": null,
   "id": "5ebc6bc7",
   "metadata": {},
   "outputs": [],
   "source": []
  },
  {
   "cell_type": "code",
   "execution_count": null,
   "id": "94203599",
   "metadata": {},
   "outputs": [],
   "source": []
  },
  {
   "cell_type": "code",
   "execution_count": null,
   "id": "584d425b",
   "metadata": {},
   "outputs": [],
   "source": []
  },
  {
   "cell_type": "code",
   "execution_count": null,
   "id": "5e1ea03f",
   "metadata": {},
   "outputs": [],
   "source": []
  },
  {
   "cell_type": "code",
   "execution_count": null,
   "id": "288b7fa4",
   "metadata": {},
   "outputs": [],
   "source": []
  }
 ],
 "metadata": {
  "kernelspec": {
   "display_name": "Python 3 (ipykernel)",
   "language": "python",
   "name": "python3"
  },
  "language_info": {
   "codemirror_mode": {
    "name": "ipython",
    "version": 3
   },
   "file_extension": ".py",
   "mimetype": "text/x-python",
   "name": "python",
   "nbconvert_exporter": "python",
   "pygments_lexer": "ipython3",
   "version": "3.10.12"
  }
 },
 "nbformat": 4,
 "nbformat_minor": 5
}
